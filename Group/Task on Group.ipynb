{
 "cells": [
  {
   "cell_type": "code",
   "execution_count": 20,
   "id": "6c0ae9e5",
   "metadata": {},
   "outputs": [],
   "source": [
    "import pandas as pd\n",
    "\n",
    "data=pd.read_csv(\"../PSL.csv\")"
   ]
  },
  {
   "cell_type": "code",
   "execution_count": 21,
   "id": "9f922c3d",
   "metadata": {},
   "outputs": [
    {
     "data": {
      "text/html": [
       "<div>\n",
       "<style scoped>\n",
       "    .dataframe tbody tr th:only-of-type {\n",
       "        vertical-align: middle;\n",
       "    }\n",
       "\n",
       "    .dataframe tbody tr th {\n",
       "        vertical-align: top;\n",
       "    }\n",
       "\n",
       "    .dataframe thead th {\n",
       "        text-align: right;\n",
       "    }\n",
       "</style>\n",
       "<table border=\"1\" class=\"dataframe\">\n",
       "  <thead>\n",
       "    <tr style=\"text-align: right;\">\n",
       "      <th></th>\n",
       "      <th>Match Numer</th>\n",
       "      <th>Team 1</th>\n",
       "      <th>Team 2</th>\n",
       "      <th>Winner</th>\n",
       "      <th>Margin</th>\n",
       "      <th>Ground</th>\n",
       "      <th>Match Date</th>\n",
       "      <th>Result</th>\n",
       "      <th>Winning Trends</th>\n",
       "      <th>Win by Wckets</th>\n",
       "      <th>...</th>\n",
       "      <th>Player Of The Match</th>\n",
       "      <th>Match days</th>\n",
       "      <th>Day &amp; Night</th>\n",
       "      <th>Umpires</th>\n",
       "      <th>TV Umpire</th>\n",
       "      <th>Reserve Umpire</th>\n",
       "      <th>Match Referee</th>\n",
       "      <th>Points 1</th>\n",
       "      <th>Points 2</th>\n",
       "      <th>Player Of The Series</th>\n",
       "    </tr>\n",
       "  </thead>\n",
       "  <tbody>\n",
       "    <tr>\n",
       "      <th>0</th>\n",
       "      <td>1</td>\n",
       "      <td>Islamabad United</td>\n",
       "      <td>Quetta Gladiators</td>\n",
       "      <td>Quetta Gladiators</td>\n",
       "      <td>8 wickets</td>\n",
       "      <td>Dubai (DICS)</td>\n",
       "      <td>4-Feb-16</td>\n",
       "      <td>Normal</td>\n",
       "      <td>Bowl First</td>\n",
       "      <td>8.0</td>\n",
       "      <td>...</td>\n",
       "      <td>Gladiators Mohammad Nawaz</td>\n",
       "      <td>4-Feb-16</td>\n",
       "      <td>night</td>\n",
       "      <td>West Indies Joel Wilson Pakistan Shozab Raza</td>\n",
       "      <td>Pakistan Rashid Riaz</td>\n",
       "      <td>Pakistan Khalid Mahmood</td>\n",
       "      <td>Pakistan Mohammed Anees</td>\n",
       "      <td>Quetta Gladiators 2</td>\n",
       "      <td>Islamabad United 0</td>\n",
       "      <td>NaN</td>\n",
       "    </tr>\n",
       "    <tr>\n",
       "      <th>1</th>\n",
       "      <td>2</td>\n",
       "      <td>Karachi Kings</td>\n",
       "      <td>Lahore Qalandars</td>\n",
       "      <td>Karachi Kings</td>\n",
       "      <td>7 wickets</td>\n",
       "      <td>Dubai (DICS)</td>\n",
       "      <td>5-Feb-16</td>\n",
       "      <td>Normal</td>\n",
       "      <td>Bowl First</td>\n",
       "      <td>7.0</td>\n",
       "      <td>...</td>\n",
       "      <td>Kings Shakib Al Hasan</td>\n",
       "      <td>5-Feb-16</td>\n",
       "      <td>daynight</td>\n",
       "      <td>West Indies Joel Wilson Pakistan Rashid Riaz</td>\n",
       "      <td>Pakistan Shozab Raza</td>\n",
       "      <td>Pakistan Khalid Mahmood</td>\n",
       "      <td>Pakistan Mohammed Anees</td>\n",
       "      <td>Karachi Kings 2</td>\n",
       "      <td>Lahore Qalandars 0</td>\n",
       "      <td>NaN</td>\n",
       "    </tr>\n",
       "    <tr>\n",
       "      <th>2</th>\n",
       "      <td>3</td>\n",
       "      <td>Peshawar Zalmi</td>\n",
       "      <td>Islamabad United</td>\n",
       "      <td>Peshawar Zalmi</td>\n",
       "      <td>24 runs</td>\n",
       "      <td>Dubai (DICS)</td>\n",
       "      <td>5-Feb-16</td>\n",
       "      <td>Normal</td>\n",
       "      <td>Bat First</td>\n",
       "      <td>NaN</td>\n",
       "      <td>...</td>\n",
       "      <td>Zalmi Mohammad Asghar</td>\n",
       "      <td>5-Feb-16</td>\n",
       "      <td>night</td>\n",
       "      <td>Pakistan Rashid Riaz Pakistan Shozab Raza</td>\n",
       "      <td>West Indies Joel Wilson</td>\n",
       "      <td>Pakistan Khalid Mahmood</td>\n",
       "      <td>Pakistan Mohammed Anees</td>\n",
       "      <td>Peshawar Zalmi 2</td>\n",
       "      <td>Islamabad United 0</td>\n",
       "      <td>NaN</td>\n",
       "    </tr>\n",
       "  </tbody>\n",
       "</table>\n",
       "<p>3 rows × 26 columns</p>\n",
       "</div>"
      ],
      "text/plain": [
       "   Match Numer            Team 1             Team 2             Winner  \\\n",
       "0            1  Islamabad United  Quetta Gladiators  Quetta Gladiators   \n",
       "1            2     Karachi Kings   Lahore Qalandars      Karachi Kings   \n",
       "2            3    Peshawar Zalmi   Islamabad United     Peshawar Zalmi   \n",
       "\n",
       "      Margin        Ground Match Date  Result Winning Trends  Win by Wckets  \\\n",
       "0  8 wickets  Dubai (DICS)   4-Feb-16  Normal     Bowl First            8.0   \n",
       "1  7 wickets  Dubai (DICS)   5-Feb-16  Normal     Bowl First            7.0   \n",
       "2    24 runs  Dubai (DICS)   5-Feb-16  Normal      Bat First            NaN   \n",
       "\n",
       "   ...        Player Of The Match Match days Day & Night  \\\n",
       "0  ...  Gladiators Mohammad Nawaz   4-Feb-16      night    \n",
       "1  ...      Kings Shakib Al Hasan   5-Feb-16   daynight    \n",
       "2  ...      Zalmi Mohammad Asghar   5-Feb-16      night    \n",
       "\n",
       "                                        Umpires                TV Umpire  \\\n",
       "0  West Indies Joel Wilson Pakistan Shozab Raza     Pakistan Rashid Riaz   \n",
       "1  West Indies Joel Wilson Pakistan Rashid Riaz     Pakistan Shozab Raza   \n",
       "2     Pakistan Rashid Riaz Pakistan Shozab Raza  West Indies Joel Wilson   \n",
       "\n",
       "            Reserve Umpire            Match Referee             Points 1  \\\n",
       "0  Pakistan Khalid Mahmood  Pakistan Mohammed Anees  Quetta Gladiators 2   \n",
       "1  Pakistan Khalid Mahmood  Pakistan Mohammed Anees      Karachi Kings 2   \n",
       "2  Pakistan Khalid Mahmood  Pakistan Mohammed Anees     Peshawar Zalmi 2   \n",
       "\n",
       "              Points 2 Player Of The Series  \n",
       "0   Islamabad United 0                  NaN  \n",
       "1   Lahore Qalandars 0                  NaN  \n",
       "2   Islamabad United 0                  NaN  \n",
       "\n",
       "[3 rows x 26 columns]"
      ]
     },
     "execution_count": 21,
     "metadata": {},
     "output_type": "execute_result"
    }
   ],
   "source": [
    "data.head(3)"
   ]
  },
  {
   "cell_type": "markdown",
   "id": "c42c9067-21eb-46e5-a123-8f3cf8a8b977",
   "metadata": {},
   "source": [
    "# 1 To find the hightest number of play in  which ground and which is the Winning Trends of ground ? "
   ]
  },
  {
   "cell_type": "code",
   "execution_count": 22,
   "id": "f8c2af57",
   "metadata": {},
   "outputs": [],
   "source": [
    "group=data.groupby(\"Ground\")"
   ]
  },
  {
   "cell_type": "code",
   "execution_count": 23,
   "id": "04832da6",
   "metadata": {},
   "outputs": [],
   "source": [
    "highest_ground=group.size().sort_values(ascending=False).head(1)"
   ]
  },
  {
   "cell_type": "code",
   "execution_count": 24,
   "id": "e1dfc421-8812-4386-8515-185db17efcf9",
   "metadata": {},
   "outputs": [
    {
     "data": {
      "text/plain": [
       "Ground\n",
       "Karachi    70\n",
       "dtype: int64"
      ]
     },
     "execution_count": 24,
     "metadata": {},
     "output_type": "execute_result"
    }
   ],
   "source": [
    "highest_ground"
   ]
  },
  {
   "cell_type": "markdown",
   "id": "e3517646-1148-4c26-b0e9-b605a90019c8",
   "metadata": {},
   "source": [
    "### The highest number of matches plays in Karachi ground"
   ]
  },
  {
   "cell_type": "code",
   "execution_count": 26,
   "id": "27a812b5-494c-4591-a3c0-25fdd75e72b0",
   "metadata": {},
   "outputs": [
    {
     "ename": "KeyError",
     "evalue": "'Winning Trends'",
     "output_type": "error",
     "traceback": [
      "\u001b[31m---------------------------------------------------------------------------\u001b[39m",
      "\u001b[31mKeyError\u001b[39m                                  Traceback (most recent call last)",
      "\u001b[36mFile \u001b[39m\u001b[32md:\\DataScience and AI programming\\venv\\Lib\\site-packages\\pandas\\core\\indexes\\base.py:3812\u001b[39m, in \u001b[36mIndex.get_loc\u001b[39m\u001b[34m(self, key)\u001b[39m\n\u001b[32m   3811\u001b[39m \u001b[38;5;28;01mtry\u001b[39;00m:\n\u001b[32m-> \u001b[39m\u001b[32m3812\u001b[39m     \u001b[38;5;28;01mreturn\u001b[39;00m \u001b[38;5;28;43mself\u001b[39;49m\u001b[43m.\u001b[49m\u001b[43m_engine\u001b[49m\u001b[43m.\u001b[49m\u001b[43mget_loc\u001b[49m\u001b[43m(\u001b[49m\u001b[43mcasted_key\u001b[49m\u001b[43m)\u001b[49m\n\u001b[32m   3813\u001b[39m \u001b[38;5;28;01mexcept\u001b[39;00m \u001b[38;5;167;01mKeyError\u001b[39;00m \u001b[38;5;28;01mas\u001b[39;00m err:\n",
      "\u001b[36mFile \u001b[39m\u001b[32mpandas/_libs/index.pyx:167\u001b[39m, in \u001b[36mpandas._libs.index.IndexEngine.get_loc\u001b[39m\u001b[34m()\u001b[39m\n",
      "\u001b[36mFile \u001b[39m\u001b[32mpandas/_libs/index.pyx:196\u001b[39m, in \u001b[36mpandas._libs.index.IndexEngine.get_loc\u001b[39m\u001b[34m()\u001b[39m\n",
      "\u001b[36mFile \u001b[39m\u001b[32mpandas/_libs/hashtable_class_helper.pxi:7088\u001b[39m, in \u001b[36mpandas._libs.hashtable.PyObjectHashTable.get_item\u001b[39m\u001b[34m()\u001b[39m\n",
      "\u001b[36mFile \u001b[39m\u001b[32mpandas/_libs/hashtable_class_helper.pxi:7096\u001b[39m, in \u001b[36mpandas._libs.hashtable.PyObjectHashTable.get_item\u001b[39m\u001b[34m()\u001b[39m\n",
      "\u001b[31mKeyError\u001b[39m: 'Winning Trends'",
      "\nThe above exception was the direct cause of the following exception:\n",
      "\u001b[31mKeyError\u001b[39m                                  Traceback (most recent call last)",
      "\u001b[36mCell\u001b[39m\u001b[36m \u001b[39m\u001b[32mIn[26]\u001b[39m\u001b[32m, line 1\u001b[39m\n\u001b[32m----> \u001b[39m\u001b[32m1\u001b[39m \u001b[43mhighest_ground\u001b[49m\u001b[43m[\u001b[49m\u001b[33;43m'\u001b[39;49m\u001b[33;43mWinning Trends\u001b[39;49m\u001b[33;43m'\u001b[39;49m\u001b[43m]\u001b[49m\n",
      "\u001b[36mFile \u001b[39m\u001b[32md:\\DataScience and AI programming\\venv\\Lib\\site-packages\\pandas\\core\\series.py:1130\u001b[39m, in \u001b[36mSeries.__getitem__\u001b[39m\u001b[34m(self, key)\u001b[39m\n\u001b[32m   1127\u001b[39m     \u001b[38;5;28;01mreturn\u001b[39;00m \u001b[38;5;28mself\u001b[39m._values[key]\n\u001b[32m   1129\u001b[39m \u001b[38;5;28;01melif\u001b[39;00m key_is_scalar:\n\u001b[32m-> \u001b[39m\u001b[32m1130\u001b[39m     \u001b[38;5;28;01mreturn\u001b[39;00m \u001b[38;5;28;43mself\u001b[39;49m\u001b[43m.\u001b[49m\u001b[43m_get_value\u001b[49m\u001b[43m(\u001b[49m\u001b[43mkey\u001b[49m\u001b[43m)\u001b[49m\n\u001b[32m   1132\u001b[39m \u001b[38;5;66;03m# Convert generator to list before going through hashable part\u001b[39;00m\n\u001b[32m   1133\u001b[39m \u001b[38;5;66;03m# (We will iterate through the generator there to check for slices)\u001b[39;00m\n\u001b[32m   1134\u001b[39m \u001b[38;5;28;01mif\u001b[39;00m is_iterator(key):\n",
      "\u001b[36mFile \u001b[39m\u001b[32md:\\DataScience and AI programming\\venv\\Lib\\site-packages\\pandas\\core\\series.py:1246\u001b[39m, in \u001b[36mSeries._get_value\u001b[39m\u001b[34m(self, label, takeable)\u001b[39m\n\u001b[32m   1243\u001b[39m     \u001b[38;5;28;01mreturn\u001b[39;00m \u001b[38;5;28mself\u001b[39m._values[label]\n\u001b[32m   1245\u001b[39m \u001b[38;5;66;03m# Similar to Index.get_value, but we do not fall back to positional\u001b[39;00m\n\u001b[32m-> \u001b[39m\u001b[32m1246\u001b[39m loc = \u001b[38;5;28;43mself\u001b[39;49m\u001b[43m.\u001b[49m\u001b[43mindex\u001b[49m\u001b[43m.\u001b[49m\u001b[43mget_loc\u001b[49m\u001b[43m(\u001b[49m\u001b[43mlabel\u001b[49m\u001b[43m)\u001b[49m\n\u001b[32m   1248\u001b[39m \u001b[38;5;28;01mif\u001b[39;00m is_integer(loc):\n\u001b[32m   1249\u001b[39m     \u001b[38;5;28;01mreturn\u001b[39;00m \u001b[38;5;28mself\u001b[39m._values[loc]\n",
      "\u001b[36mFile \u001b[39m\u001b[32md:\\DataScience and AI programming\\venv\\Lib\\site-packages\\pandas\\core\\indexes\\base.py:3819\u001b[39m, in \u001b[36mIndex.get_loc\u001b[39m\u001b[34m(self, key)\u001b[39m\n\u001b[32m   3814\u001b[39m     \u001b[38;5;28;01mif\u001b[39;00m \u001b[38;5;28misinstance\u001b[39m(casted_key, \u001b[38;5;28mslice\u001b[39m) \u001b[38;5;129;01mor\u001b[39;00m (\n\u001b[32m   3815\u001b[39m         \u001b[38;5;28misinstance\u001b[39m(casted_key, abc.Iterable)\n\u001b[32m   3816\u001b[39m         \u001b[38;5;129;01mand\u001b[39;00m \u001b[38;5;28many\u001b[39m(\u001b[38;5;28misinstance\u001b[39m(x, \u001b[38;5;28mslice\u001b[39m) \u001b[38;5;28;01mfor\u001b[39;00m x \u001b[38;5;129;01min\u001b[39;00m casted_key)\n\u001b[32m   3817\u001b[39m     ):\n\u001b[32m   3818\u001b[39m         \u001b[38;5;28;01mraise\u001b[39;00m InvalidIndexError(key)\n\u001b[32m-> \u001b[39m\u001b[32m3819\u001b[39m     \u001b[38;5;28;01mraise\u001b[39;00m \u001b[38;5;167;01mKeyError\u001b[39;00m(key) \u001b[38;5;28;01mfrom\u001b[39;00m\u001b[38;5;250m \u001b[39m\u001b[34;01merr\u001b[39;00m\n\u001b[32m   3820\u001b[39m \u001b[38;5;28;01mexcept\u001b[39;00m \u001b[38;5;167;01mTypeError\u001b[39;00m:\n\u001b[32m   3821\u001b[39m     \u001b[38;5;66;03m# If we have a listlike key, _check_indexing_error will raise\u001b[39;00m\n\u001b[32m   3822\u001b[39m     \u001b[38;5;66;03m#  InvalidIndexError. Otherwise we fall through and re-raise\u001b[39;00m\n\u001b[32m   3823\u001b[39m     \u001b[38;5;66;03m#  the TypeError.\u001b[39;00m\n\u001b[32m   3824\u001b[39m     \u001b[38;5;28mself\u001b[39m._check_indexing_error(key)\n",
      "\u001b[31mKeyError\u001b[39m: 'Winning Trends'"
     ]
    }
   ],
   "source": [
    "highest_ground['Winning Trends']"
   ]
  },
  {
   "cell_type": "markdown",
   "id": "67829df7",
   "metadata": {},
   "source": [
    "## To Find the hihest number scored made by which batsman in PSL"
   ]
  },
  {
   "cell_type": "code",
   "execution_count": 4,
   "id": "2ca5c624-12e9-4745-892a-883694883f8d",
   "metadata": {},
   "outputs": [],
   "source": [
    "data1=pd.read_csv(\"../Batsman_performance_data.csv\")"
   ]
  },
  {
   "cell_type": "code",
   "execution_count": 5,
   "id": "5c347e04",
   "metadata": {},
   "outputs": [
    {
     "data": {
      "text/html": [
       "<div>\n",
       "<style scoped>\n",
       "    .dataframe tbody tr th:only-of-type {\n",
       "        vertical-align: middle;\n",
       "    }\n",
       "\n",
       "    .dataframe tbody tr th {\n",
       "        vertical-align: top;\n",
       "    }\n",
       "\n",
       "    .dataframe thead th {\n",
       "        text-align: right;\n",
       "    }\n",
       "</style>\n",
       "<table border=\"1\" class=\"dataframe\">\n",
       "  <thead>\n",
       "    <tr style=\"text-align: right;\">\n",
       "      <th></th>\n",
       "      <th>batsman</th>\n",
       "      <th>total_runs</th>\n",
       "      <th>total_balls</th>\n",
       "      <th>fours</th>\n",
       "      <th>sixes</th>\n",
       "      <th>strike_rate</th>\n",
       "      <th>match_captain</th>\n",
       "      <th>wicket_type</th>\n",
       "      <th>dismissed_by</th>\n",
       "      <th>season</th>\n",
       "      <th>venue</th>\n",
       "      <th>team_name</th>\n",
       "      <th>opponent_team</th>\n",
       "    </tr>\n",
       "  </thead>\n",
       "  <tbody>\n",
       "    <tr>\n",
       "      <th>0</th>\n",
       "      <td>Tamim Iqbal</td>\n",
       "      <td>62</td>\n",
       "      <td>46</td>\n",
       "      <td>4</td>\n",
       "      <td>4</td>\n",
       "      <td>134.78</td>\n",
       "      <td>0</td>\n",
       "      <td>not out</td>\n",
       "      <td>not out</td>\n",
       "      <td>2017</td>\n",
       "      <td>Sharjah Cricket Stadium</td>\n",
       "      <td>Peshawar Zalmi</td>\n",
       "      <td>Quetta Gladiators</td>\n",
       "    </tr>\n",
       "    <tr>\n",
       "      <th>1</th>\n",
       "      <td>Mohammad Hafeez</td>\n",
       "      <td>16</td>\n",
       "      <td>19</td>\n",
       "      <td>2</td>\n",
       "      <td>0</td>\n",
       "      <td>84.21</td>\n",
       "      <td>0</td>\n",
       "      <td>catch</td>\n",
       "      <td>Mahmudullah</td>\n",
       "      <td>2017</td>\n",
       "      <td>Sharjah Cricket Stadium</td>\n",
       "      <td>Peshawar Zalmi</td>\n",
       "      <td>Quetta Gladiators</td>\n",
       "    </tr>\n",
       "  </tbody>\n",
       "</table>\n",
       "</div>"
      ],
      "text/plain": [
       "           batsman  total_runs  total_balls  fours  sixes  strike_rate  \\\n",
       "0      Tamim Iqbal          62           46      4      4       134.78   \n",
       "1  Mohammad Hafeez          16           19      2      0        84.21   \n",
       "\n",
       "   match_captain wicket_type dismissed_by  season                    venue  \\\n",
       "0              0     not out      not out    2017  Sharjah Cricket Stadium   \n",
       "1              0       catch  Mahmudullah    2017  Sharjah Cricket Stadium   \n",
       "\n",
       "        team_name      opponent_team  \n",
       "0  Peshawar Zalmi  Quetta Gladiators  \n",
       "1  Peshawar Zalmi  Quetta Gladiators  "
      ]
     },
     "execution_count": 5,
     "metadata": {},
     "output_type": "execute_result"
    }
   ],
   "source": [
    "data1.head(2)"
   ]
  },
  {
   "cell_type": "code",
   "execution_count": null,
   "id": "e7ac9885",
   "metadata": {},
   "outputs": [],
   "source": [
    "hight_scores=data1.groupby(\"batsman\")"
   ]
  },
  {
   "cell_type": "code",
   "execution_count": null,
   "id": "c29e1d76",
   "metadata": {},
   "outputs": [],
   "source": []
  },
  {
   "cell_type": "code",
   "execution_count": 18,
   "id": "3a636d84",
   "metadata": {},
   "outputs": [
    {
     "data": {
      "text/plain": [
       "batsman\n",
       "Babar Azam         3504\n",
       "Fakhar Zaman       2525\n",
       "Mohammad Rizwan    2403\n",
       "Name: total_runs, dtype: int64"
      ]
     },
     "execution_count": 18,
     "metadata": {},
     "output_type": "execute_result"
    }
   ],
   "source": [
    "hight_scores[\"total_runs\"].sum().sort_values(ascending=False).head(3)"
   ]
  },
  {
   "cell_type": "markdown",
   "id": "a2433eb1",
   "metadata": {},
   "source": [
    "## Baber Azam is 3504 is highest score"
   ]
  },
  {
   "cell_type": "code",
   "execution_count": null,
   "id": "2e34e2aa",
   "metadata": {},
   "outputs": [],
   "source": []
  }
 ],
 "metadata": {
  "kernelspec": {
   "display_name": "venv",
   "language": "python",
   "name": "python3"
  },
  "language_info": {
   "codemirror_mode": {
    "name": "ipython",
    "version": 3
   },
   "file_extension": ".py",
   "mimetype": "text/x-python",
   "name": "python",
   "nbconvert_exporter": "python",
   "pygments_lexer": "ipython3",
   "version": "3.13.3"
  }
 },
 "nbformat": 4,
 "nbformat_minor": 5
}
