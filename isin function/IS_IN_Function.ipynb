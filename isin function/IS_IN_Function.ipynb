{
 "cells": [
  {
   "cell_type": "markdown",
   "id": "06d96dc8",
   "metadata": {},
   "source": [
    "### To Find the most destructive death over batsman in the history of IPL\n",
    "### mini batsman 200 balls in 16-20 over"
   ]
  },
  {
   "cell_type": "code",
   "execution_count": null,
   "id": "f63fb5f2",
   "metadata": {},
   "outputs": [],
   "source": []
  },
  {
   "cell_type": "code",
   "execution_count": 1,
   "id": "f601eaab",
   "metadata": {},
   "outputs": [],
   "source": [
    "import pandas as pd"
   ]
  },
  {
   "cell_type": "code",
   "execution_count": 2,
   "id": "0db7760b",
   "metadata": {},
   "outputs": [],
   "source": [
    "data=pd.read_csv(\"../deliveries.csv\")"
   ]
  },
  {
   "cell_type": "code",
   "execution_count": 3,
   "id": "54be000f",
   "metadata": {},
   "outputs": [
    {
     "data": {
      "text/html": [
       "<div>\n",
       "<style scoped>\n",
       "    .dataframe tbody tr th:only-of-type {\n",
       "        vertical-align: middle;\n",
       "    }\n",
       "\n",
       "    .dataframe tbody tr th {\n",
       "        vertical-align: top;\n",
       "    }\n",
       "\n",
       "    .dataframe thead th {\n",
       "        text-align: right;\n",
       "    }\n",
       "</style>\n",
       "<table border=\"1\" class=\"dataframe\">\n",
       "  <thead>\n",
       "    <tr style=\"text-align: right;\">\n",
       "      <th></th>\n",
       "      <th>match_id</th>\n",
       "      <th>inning</th>\n",
       "      <th>batting_team</th>\n",
       "      <th>bowling_team</th>\n",
       "      <th>over</th>\n",
       "      <th>ball</th>\n",
       "      <th>batsman</th>\n",
       "      <th>non_striker</th>\n",
       "      <th>bowler</th>\n",
       "      <th>is_super_over</th>\n",
       "      <th>...</th>\n",
       "      <th>bye_runs</th>\n",
       "      <th>legbye_runs</th>\n",
       "      <th>noball_runs</th>\n",
       "      <th>penalty_runs</th>\n",
       "      <th>batsman_runs</th>\n",
       "      <th>extra_runs</th>\n",
       "      <th>total_runs</th>\n",
       "      <th>player_dismissed</th>\n",
       "      <th>dismissal_kind</th>\n",
       "      <th>fielder</th>\n",
       "    </tr>\n",
       "  </thead>\n",
       "  <tbody>\n",
       "    <tr>\n",
       "      <th>0</th>\n",
       "      <td>1</td>\n",
       "      <td>1</td>\n",
       "      <td>Sunrisers Hyderabad</td>\n",
       "      <td>Royal Challengers Bangalore</td>\n",
       "      <td>1</td>\n",
       "      <td>1</td>\n",
       "      <td>DA Warner</td>\n",
       "      <td>S Dhawan</td>\n",
       "      <td>TS Mills</td>\n",
       "      <td>0</td>\n",
       "      <td>...</td>\n",
       "      <td>0</td>\n",
       "      <td>0</td>\n",
       "      <td>0</td>\n",
       "      <td>0</td>\n",
       "      <td>0</td>\n",
       "      <td>0</td>\n",
       "      <td>0</td>\n",
       "      <td>NaN</td>\n",
       "      <td>NaN</td>\n",
       "      <td>NaN</td>\n",
       "    </tr>\n",
       "    <tr>\n",
       "      <th>1</th>\n",
       "      <td>1</td>\n",
       "      <td>1</td>\n",
       "      <td>Sunrisers Hyderabad</td>\n",
       "      <td>Royal Challengers Bangalore</td>\n",
       "      <td>1</td>\n",
       "      <td>2</td>\n",
       "      <td>DA Warner</td>\n",
       "      <td>S Dhawan</td>\n",
       "      <td>TS Mills</td>\n",
       "      <td>0</td>\n",
       "      <td>...</td>\n",
       "      <td>0</td>\n",
       "      <td>0</td>\n",
       "      <td>0</td>\n",
       "      <td>0</td>\n",
       "      <td>0</td>\n",
       "      <td>0</td>\n",
       "      <td>0</td>\n",
       "      <td>NaN</td>\n",
       "      <td>NaN</td>\n",
       "      <td>NaN</td>\n",
       "    </tr>\n",
       "  </tbody>\n",
       "</table>\n",
       "<p>2 rows × 21 columns</p>\n",
       "</div>"
      ],
      "text/plain": [
       "   match_id  inning         batting_team                 bowling_team  over  \\\n",
       "0         1       1  Sunrisers Hyderabad  Royal Challengers Bangalore     1   \n",
       "1         1       1  Sunrisers Hyderabad  Royal Challengers Bangalore     1   \n",
       "\n",
       "   ball    batsman non_striker    bowler  is_super_over  ...  bye_runs  \\\n",
       "0     1  DA Warner    S Dhawan  TS Mills              0  ...         0   \n",
       "1     2  DA Warner    S Dhawan  TS Mills              0  ...         0   \n",
       "\n",
       "   legbye_runs  noball_runs  penalty_runs  batsman_runs  extra_runs  \\\n",
       "0            0            0             0             0           0   \n",
       "1            0            0             0             0           0   \n",
       "\n",
       "   total_runs  player_dismissed dismissal_kind fielder  \n",
       "0           0               NaN            NaN     NaN  \n",
       "1           0               NaN            NaN     NaN  \n",
       "\n",
       "[2 rows x 21 columns]"
      ]
     },
     "execution_count": 3,
     "metadata": {},
     "output_type": "execute_result"
    }
   ],
   "source": [
    "data.head(2)"
   ]
  },
  {
   "cell_type": "code",
   "execution_count": 6,
   "id": "8159616f",
   "metadata": {},
   "outputs": [
    {
     "data": {
      "text/html": [
       "<div>\n",
       "<style scoped>\n",
       "    .dataframe tbody tr th:only-of-type {\n",
       "        vertical-align: middle;\n",
       "    }\n",
       "\n",
       "    .dataframe tbody tr th {\n",
       "        vertical-align: top;\n",
       "    }\n",
       "\n",
       "    .dataframe thead th {\n",
       "        text-align: right;\n",
       "    }\n",
       "</style>\n",
       "<table border=\"1\" class=\"dataframe\">\n",
       "  <thead>\n",
       "    <tr style=\"text-align: right;\">\n",
       "      <th></th>\n",
       "      <th>match_id</th>\n",
       "      <th>inning</th>\n",
       "      <th>batting_team</th>\n",
       "      <th>bowling_team</th>\n",
       "      <th>over</th>\n",
       "      <th>ball</th>\n",
       "      <th>batsman</th>\n",
       "      <th>non_striker</th>\n",
       "      <th>bowler</th>\n",
       "      <th>is_super_over</th>\n",
       "      <th>...</th>\n",
       "      <th>bye_runs</th>\n",
       "      <th>legbye_runs</th>\n",
       "      <th>noball_runs</th>\n",
       "      <th>penalty_runs</th>\n",
       "      <th>batsman_runs</th>\n",
       "      <th>extra_runs</th>\n",
       "      <th>total_runs</th>\n",
       "      <th>player_dismissed</th>\n",
       "      <th>dismissal_kind</th>\n",
       "      <th>fielder</th>\n",
       "    </tr>\n",
       "  </thead>\n",
       "  <tbody>\n",
       "    <tr>\n",
       "      <th>93</th>\n",
       "      <td>1</td>\n",
       "      <td>1</td>\n",
       "      <td>Sunrisers Hyderabad</td>\n",
       "      <td>Royal Challengers Bangalore</td>\n",
       "      <td>16</td>\n",
       "      <td>1</td>\n",
       "      <td>MC Henriques</td>\n",
       "      <td>Yuvraj Singh</td>\n",
       "      <td>YS Chahal</td>\n",
       "      <td>0</td>\n",
       "      <td>...</td>\n",
       "      <td>0</td>\n",
       "      <td>0</td>\n",
       "      <td>0</td>\n",
       "      <td>0</td>\n",
       "      <td>0</td>\n",
       "      <td>0</td>\n",
       "      <td>0</td>\n",
       "      <td>NaN</td>\n",
       "      <td>NaN</td>\n",
       "      <td>NaN</td>\n",
       "    </tr>\n",
       "    <tr>\n",
       "      <th>94</th>\n",
       "      <td>1</td>\n",
       "      <td>1</td>\n",
       "      <td>Sunrisers Hyderabad</td>\n",
       "      <td>Royal Challengers Bangalore</td>\n",
       "      <td>16</td>\n",
       "      <td>2</td>\n",
       "      <td>MC Henriques</td>\n",
       "      <td>Yuvraj Singh</td>\n",
       "      <td>YS Chahal</td>\n",
       "      <td>0</td>\n",
       "      <td>...</td>\n",
       "      <td>0</td>\n",
       "      <td>0</td>\n",
       "      <td>0</td>\n",
       "      <td>0</td>\n",
       "      <td>0</td>\n",
       "      <td>0</td>\n",
       "      <td>0</td>\n",
       "      <td>MC Henriques</td>\n",
       "      <td>caught</td>\n",
       "      <td>Sachin Baby</td>\n",
       "    </tr>\n",
       "  </tbody>\n",
       "</table>\n",
       "<p>2 rows × 21 columns</p>\n",
       "</div>"
      ],
      "text/plain": [
       "    match_id  inning         batting_team                 bowling_team  over  \\\n",
       "93         1       1  Sunrisers Hyderabad  Royal Challengers Bangalore    16   \n",
       "94         1       1  Sunrisers Hyderabad  Royal Challengers Bangalore    16   \n",
       "\n",
       "    ball       batsman   non_striker     bowler  is_super_over  ...  bye_runs  \\\n",
       "93     1  MC Henriques  Yuvraj Singh  YS Chahal              0  ...         0   \n",
       "94     2  MC Henriques  Yuvraj Singh  YS Chahal              0  ...         0   \n",
       "\n",
       "    legbye_runs  noball_runs  penalty_runs  batsman_runs  extra_runs  \\\n",
       "93            0            0             0             0           0   \n",
       "94            0            0             0             0           0   \n",
       "\n",
       "    total_runs  player_dismissed dismissal_kind      fielder  \n",
       "93           0               NaN            NaN          NaN  \n",
       "94           0      MC Henriques         caught  Sachin Baby  \n",
       "\n",
       "[2 rows x 21 columns]"
      ]
     },
     "execution_count": 6,
     "metadata": {},
     "output_type": "execute_result"
    }
   ],
   "source": [
    "mask=data['over']>15\n",
    "\n",
    "data[mask].head(2)"
   ]
  },
  {
   "cell_type": "code",
   "execution_count": 7,
   "id": "9bde214a",
   "metadata": {},
   "outputs": [],
   "source": [
    "death_over=data[mask]"
   ]
  },
  {
   "cell_type": "code",
   "execution_count": 9,
   "id": "a4e07716",
   "metadata": {},
   "outputs": [
    {
     "data": {
      "text/plain": [
       "batsman\n",
       "A Ashish Reddy    148\n",
       "A Chandila          7\n",
       "A Chopra            2\n",
       "A Choudhary        20\n",
       "A Flintoff         18\n",
       "                 ... \n",
       "YS Chahal          27\n",
       "YV Takawale        13\n",
       "Yashpal Singh      13\n",
       "Yuvraj Singh      516\n",
       "Z Khan            109\n",
       "Name: batsman_runs, Length: 416, dtype: int64"
      ]
     },
     "execution_count": 9,
     "metadata": {},
     "output_type": "execute_result"
    }
   ],
   "source": [
    "death_over.groupby(\"batsman\")['batsman_runs'].count()"
   ]
  },
  {
   "cell_type": "code",
   "execution_count": 13,
   "id": "7a62df26",
   "metadata": {},
   "outputs": [
    {
     "data": {
      "text/plain": [
       "['A Mishra',\n",
       " 'AB de Villiers',\n",
       " 'AD Mathews',\n",
       " 'AM Rahane',\n",
       " 'AR Patel',\n",
       " 'AT Rayudu',\n",
       " 'BJ Hodge',\n",
       " 'DA Miller',\n",
       " 'DA Warner',\n",
       " 'DJ Bravo',\n",
       " 'DJ Hussey',\n",
       " 'DPMD Jayawardene',\n",
       " 'Harbhajan Singh',\n",
       " 'IK Pathan',\n",
       " 'JA Morkel',\n",
       " 'JH Kallis',\n",
       " 'JP Duminy',\n",
       " 'JP Faulkner',\n",
       " 'KA Pollard',\n",
       " 'KD Karthik',\n",
       " 'KM Jadhav',\n",
       " 'LRPL Taylor',\n",
       " 'MK Pandey',\n",
       " 'MK Tiwary',\n",
       " 'MS Dhoni',\n",
       " 'NV Ojha',\n",
       " 'P Kumar',\n",
       " 'PP Chawla',\n",
       " 'R Vinay Kumar',\n",
       " 'RA Jadeja',\n",
       " 'RG Sharma',\n",
       " 'RV Uthappa',\n",
       " 'S Badrinath',\n",
       " 'S Dhawan',\n",
       " 'SK Raina',\n",
       " 'SPD Smith',\n",
       " 'SS Tiwary',\n",
       " 'STR Binny',\n",
       " 'V Kohli',\n",
       " 'WP Saha',\n",
       " 'Y Venugopal Rao',\n",
       " 'YK Pathan',\n",
       " 'Yuvraj Singh']"
      ]
     },
     "execution_count": 13,
     "metadata": {},
     "output_type": "execute_result"
    }
   ],
   "source": [
    "all_batsman=death_over.groupby(\"batsman\")['batsman_runs'].count()\n",
    "x = all_batsman > 200\n",
    "all_batsman[x].index.to_list()"
   ]
  },
  {
   "cell_type": "code",
   "execution_count": 14,
   "id": "2f417468",
   "metadata": {},
   "outputs": [],
   "source": [
    "batsman_list=all_batsman[x].index.to_list()"
   ]
  },
  {
   "cell_type": "markdown",
   "id": "9318e069",
   "metadata": {},
   "source": [
    "#### Runs scored by all these 43 batsman\n",
    "#### Balls played by all these 43 batsman"
   ]
  },
  {
   "cell_type": "code",
   "execution_count": 17,
   "id": "1a50ed10",
   "metadata": {},
   "outputs": [
    {
     "data": {
      "text/plain": [
       "0          True\n",
       "1          True\n",
       "2          True\n",
       "3          True\n",
       "4          True\n",
       "          ...  \n",
       "150455    False\n",
       "150456    False\n",
       "150457    False\n",
       "150458    False\n",
       "150459    False\n",
       "Name: batsman, Length: 150460, dtype: bool"
      ]
     },
     "execution_count": 17,
     "metadata": {},
     "output_type": "execute_result"
    }
   ],
   "source": [
    "data[\"batsman\"].isin(batsman_list)"
   ]
  },
  {
   "cell_type": "code",
   "execution_count": 21,
   "id": "7595fe95",
   "metadata": {},
   "outputs": [
    {
     "data": {
      "text/plain": [
       "(66006, 21)"
      ]
     },
     "execution_count": 21,
     "metadata": {},
     "output_type": "execute_result"
    }
   ],
   "source": [
    "data[data[\"batsman\"].isin(batsman_list)].shape"
   ]
  },
  {
   "cell_type": "code",
   "execution_count": 20,
   "id": "9cf95f6a",
   "metadata": {},
   "outputs": [],
   "source": [
    "final=data[data[\"batsman\"].isin(batsman_list)]"
   ]
  },
  {
   "cell_type": "code",
   "execution_count": 28,
   "id": "78bb89c4",
   "metadata": {},
   "outputs": [
    {
     "data": {
      "text/plain": [
       "batsman\n",
       "A Mishra           340\n",
       "AB de Villiers    3486\n",
       "AD Mathews         724\n",
       "AM Rahane         3057\n",
       "AR Patel           606\n",
       "Name: batsman_runs, dtype: int64"
      ]
     },
     "execution_count": 28,
     "metadata": {},
     "output_type": "execute_result"
    }
   ],
   "source": [
    "final.groupby('batsman')['batsman_runs'].sum().head()"
   ]
  },
  {
   "cell_type": "code",
   "execution_count": 31,
   "id": "50315b21",
   "metadata": {},
   "outputs": [
    {
     "data": {
      "text/plain": [
       "batsman\n",
       "A Mishra           382\n",
       "AB de Villiers    2402\n",
       "AD Mathews         599\n",
       "AM Rahane         2602\n",
       "AR Patel           494\n",
       "Name: batsman_runs, dtype: int64"
      ]
     },
     "execution_count": 31,
     "metadata": {},
     "output_type": "execute_result"
    }
   ],
   "source": [
    "final.groupby('batsman')['batsman_runs'].count().head()"
   ]
  },
  {
   "cell_type": "code",
   "execution_count": 32,
   "id": "5405c9bf",
   "metadata": {},
   "outputs": [],
   "source": [
    "runs = final.groupby('batsman')['batsman_runs'].sum()\n",
    "balls = final.groupby('batsman')['batsman_runs'].count()"
   ]
  },
  {
   "cell_type": "markdown",
   "id": "a769df2a",
   "metadata": {},
   "source": [
    "To find the strike rate"
   ]
  },
  {
   "cell_type": "code",
   "execution_count": 33,
   "id": "c51cf00d",
   "metadata": {},
   "outputs": [],
   "source": [
    "sr=(runs/balls)*100"
   ]
  },
  {
   "cell_type": "code",
   "execution_count": 34,
   "id": "45e69e8d",
   "metadata": {},
   "outputs": [
    {
     "name": "stdout",
     "output_type": "stream",
     "text": [
      "batsman\n",
      "A Mishra             89.005236\n",
      "AB de Villiers      145.129059\n",
      "AD Mathews          120.868114\n",
      "AM Rahane           117.486549\n",
      "AR Patel            122.672065\n",
      "AT Rayudu           123.014257\n",
      "BJ Hodge            121.422376\n",
      "DA Miller           137.709251\n",
      "DA Warner           138.318401\n",
      "DJ Bravo            122.286822\n",
      "DJ Hussey           120.072661\n",
      "DPMD Jayawardene    118.791064\n",
      "Harbhajan Singh     135.194585\n",
      "IK Pathan           116.751269\n",
      "JA Morkel           136.938202\n",
      "JH Kallis           105.936272\n",
      "JP Duminy           121.970624\n",
      "JP Faulkner         129.802956\n",
      "KA Pollard          140.621266\n",
      "KD Karthik          123.008475\n",
      "KM Jadhav           130.555556\n",
      "LRPL Taylor         120.070838\n",
      "MK Pandey           116.938453\n",
      "MK Tiwary           114.127424\n",
      "MS Dhoni            132.835821\n",
      "NV Ojha             114.528024\n",
      "P Kumar             105.263158\n",
      "PP Chawla           110.278373\n",
      "R Vinay Kumar       106.666667\n",
      "RA Jadeja           118.792867\n",
      "RG Sharma           128.497251\n",
      "RV Uthappa          127.635135\n",
      "S Badrinath         115.742972\n",
      "S Dhawan            118.502496\n",
      "SK Raina            134.995548\n",
      "SPD Smith           128.507127\n",
      "SS Tiwary           114.851485\n",
      "STR Binny           123.747981\n",
      "V Kohli             126.588437\n",
      "WP Saha             127.727646\n",
      "Y Venugopal Rao     113.872832\n",
      "YK Pathan           140.751445\n",
      "Yuvraj Singh        126.390244\n",
      "Name: batsman_runs, dtype: float64\n"
     ]
    }
   ],
   "source": [
    "print(sr)"
   ]
  },
  {
   "cell_type": "code",
   "execution_count": null,
   "id": "924a2f0d",
   "metadata": {},
   "outputs": [],
   "source": []
  }
 ],
 "metadata": {
  "kernelspec": {
   "display_name": "venv",
   "language": "python",
   "name": "python3"
  },
  "language_info": {
   "codemirror_mode": {
    "name": "ipython",
    "version": 3
   },
   "file_extension": ".py",
   "mimetype": "text/x-python",
   "name": "python",
   "nbconvert_exporter": "python",
   "pygments_lexer": "ipython3",
   "version": "3.13.3"
  }
 },
 "nbformat": 4,
 "nbformat_minor": 5
}
