{
 "cells": [
  {
   "cell_type": "code",
   "execution_count": 1,
   "id": "b52754ac",
   "metadata": {},
   "outputs": [],
   "source": [
    "import pandas as pd\n",
    "\n",
    "data=pd.read_csv(\"Psl.csv\")\n"
   ]
  },
  {
   "cell_type": "code",
   "execution_count": 3,
   "id": "4d014900",
   "metadata": {},
   "outputs": [
    {
     "data": {
      "text/html": [
       "<div>\n",
       "<style scoped>\n",
       "    .dataframe tbody tr th:only-of-type {\n",
       "        vertical-align: middle;\n",
       "    }\n",
       "\n",
       "    .dataframe tbody tr th {\n",
       "        vertical-align: top;\n",
       "    }\n",
       "\n",
       "    .dataframe thead th {\n",
       "        text-align: right;\n",
       "    }\n",
       "</style>\n",
       "<table border=\"1\" class=\"dataframe\">\n",
       "  <thead>\n",
       "    <tr style=\"text-align: right;\">\n",
       "      <th></th>\n",
       "      <th>id</th>\n",
       "      <th>match_id</th>\n",
       "      <th>date</th>\n",
       "      <th>season</th>\n",
       "      <th>venue</th>\n",
       "      <th>inning</th>\n",
       "      <th>batting_team</th>\n",
       "      <th>bowling_team</th>\n",
       "      <th>over</th>\n",
       "      <th>ball</th>\n",
       "      <th>...</th>\n",
       "      <th>is_wicket</th>\n",
       "      <th>player_dismissed</th>\n",
       "      <th>dismissal_kind</th>\n",
       "      <th>fielder</th>\n",
       "      <th>winner</th>\n",
       "      <th>win_by</th>\n",
       "      <th>match_type</th>\n",
       "      <th>player_of_match</th>\n",
       "      <th>umpire_1</th>\n",
       "      <th>umpire_2</th>\n",
       "    </tr>\n",
       "  </thead>\n",
       "  <tbody>\n",
       "    <tr>\n",
       "      <th>0</th>\n",
       "      <td>1</td>\n",
       "      <td>1075986</td>\n",
       "      <td>2017-02-09</td>\n",
       "      <td>2017</td>\n",
       "      <td>Dubai International Cricket Stadium</td>\n",
       "      <td>1</td>\n",
       "      <td>Peshawar Zalmi</td>\n",
       "      <td>Islamabad United</td>\n",
       "      <td>1</td>\n",
       "      <td>1</td>\n",
       "      <td>...</td>\n",
       "      <td>True</td>\n",
       "      <td>Mohammad Hafeez</td>\n",
       "      <td>caught</td>\n",
       "      <td>Sharjeel Khan</td>\n",
       "      <td>Islamabad United</td>\n",
       "      <td>wickets 7</td>\n",
       "      <td>regular</td>\n",
       "      <td>BJ Haddin</td>\n",
       "      <td>Ahsan Raza</td>\n",
       "      <td>Shozab Raza</td>\n",
       "    </tr>\n",
       "    <tr>\n",
       "      <th>1</th>\n",
       "      <td>2</td>\n",
       "      <td>1075986</td>\n",
       "      <td>2017-02-09</td>\n",
       "      <td>2017</td>\n",
       "      <td>Dubai International Cricket Stadium</td>\n",
       "      <td>1</td>\n",
       "      <td>Peshawar Zalmi</td>\n",
       "      <td>Islamabad United</td>\n",
       "      <td>1</td>\n",
       "      <td>2</td>\n",
       "      <td>...</td>\n",
       "      <td>False</td>\n",
       "      <td>NaN</td>\n",
       "      <td>NaN</td>\n",
       "      <td>NaN</td>\n",
       "      <td>Islamabad United</td>\n",
       "      <td>wickets 7</td>\n",
       "      <td>regular</td>\n",
       "      <td>BJ Haddin</td>\n",
       "      <td>Ahsan Raza</td>\n",
       "      <td>Shozab Raza</td>\n",
       "    </tr>\n",
       "    <tr>\n",
       "      <th>2</th>\n",
       "      <td>3</td>\n",
       "      <td>1075986</td>\n",
       "      <td>2017-02-09</td>\n",
       "      <td>2017</td>\n",
       "      <td>Dubai International Cricket Stadium</td>\n",
       "      <td>1</td>\n",
       "      <td>Peshawar Zalmi</td>\n",
       "      <td>Islamabad United</td>\n",
       "      <td>1</td>\n",
       "      <td>3</td>\n",
       "      <td>...</td>\n",
       "      <td>False</td>\n",
       "      <td>NaN</td>\n",
       "      <td>NaN</td>\n",
       "      <td>NaN</td>\n",
       "      <td>Islamabad United</td>\n",
       "      <td>wickets 7</td>\n",
       "      <td>regular</td>\n",
       "      <td>BJ Haddin</td>\n",
       "      <td>Ahsan Raza</td>\n",
       "      <td>Shozab Raza</td>\n",
       "    </tr>\n",
       "    <tr>\n",
       "      <th>3</th>\n",
       "      <td>4</td>\n",
       "      <td>1075986</td>\n",
       "      <td>2017-02-09</td>\n",
       "      <td>2017</td>\n",
       "      <td>Dubai International Cricket Stadium</td>\n",
       "      <td>1</td>\n",
       "      <td>Peshawar Zalmi</td>\n",
       "      <td>Islamabad United</td>\n",
       "      <td>1</td>\n",
       "      <td>4</td>\n",
       "      <td>...</td>\n",
       "      <td>False</td>\n",
       "      <td>NaN</td>\n",
       "      <td>NaN</td>\n",
       "      <td>NaN</td>\n",
       "      <td>Islamabad United</td>\n",
       "      <td>wickets 7</td>\n",
       "      <td>regular</td>\n",
       "      <td>BJ Haddin</td>\n",
       "      <td>Ahsan Raza</td>\n",
       "      <td>Shozab Raza</td>\n",
       "    </tr>\n",
       "    <tr>\n",
       "      <th>4</th>\n",
       "      <td>5</td>\n",
       "      <td>1075986</td>\n",
       "      <td>2017-02-09</td>\n",
       "      <td>2017</td>\n",
       "      <td>Dubai International Cricket Stadium</td>\n",
       "      <td>1</td>\n",
       "      <td>Peshawar Zalmi</td>\n",
       "      <td>Islamabad United</td>\n",
       "      <td>1</td>\n",
       "      <td>5</td>\n",
       "      <td>...</td>\n",
       "      <td>False</td>\n",
       "      <td>NaN</td>\n",
       "      <td>NaN</td>\n",
       "      <td>NaN</td>\n",
       "      <td>Islamabad United</td>\n",
       "      <td>wickets 7</td>\n",
       "      <td>regular</td>\n",
       "      <td>BJ Haddin</td>\n",
       "      <td>Ahsan Raza</td>\n",
       "      <td>Shozab Raza</td>\n",
       "    </tr>\n",
       "  </tbody>\n",
       "</table>\n",
       "<p>5 rows × 27 columns</p>\n",
       "</div>"
      ],
      "text/plain": [
       "   id  match_id        date  season                                venue  \\\n",
       "0   1   1075986  2017-02-09    2017  Dubai International Cricket Stadium   \n",
       "1   2   1075986  2017-02-09    2017  Dubai International Cricket Stadium   \n",
       "2   3   1075986  2017-02-09    2017  Dubai International Cricket Stadium   \n",
       "3   4   1075986  2017-02-09    2017  Dubai International Cricket Stadium   \n",
       "4   5   1075986  2017-02-09    2017  Dubai International Cricket Stadium   \n",
       "\n",
       "   inning    batting_team      bowling_team  over  ball  ... is_wicket  \\\n",
       "0       1  Peshawar Zalmi  Islamabad United     1     1  ...      True   \n",
       "1       1  Peshawar Zalmi  Islamabad United     1     2  ...     False   \n",
       "2       1  Peshawar Zalmi  Islamabad United     1     3  ...     False   \n",
       "3       1  Peshawar Zalmi  Islamabad United     1     4  ...     False   \n",
       "4       1  Peshawar Zalmi  Islamabad United     1     5  ...     False   \n",
       "\n",
       "  player_dismissed dismissal_kind        fielder            winner     win_by  \\\n",
       "0  Mohammad Hafeez         caught  Sharjeel Khan  Islamabad United  wickets 7   \n",
       "1              NaN            NaN            NaN  Islamabad United  wickets 7   \n",
       "2              NaN            NaN            NaN  Islamabad United  wickets 7   \n",
       "3              NaN            NaN            NaN  Islamabad United  wickets 7   \n",
       "4              NaN            NaN            NaN  Islamabad United  wickets 7   \n",
       "\n",
       "  match_type  player_of_match    umpire_1     umpire_2  \n",
       "0    regular        BJ Haddin  Ahsan Raza  Shozab Raza  \n",
       "1    regular        BJ Haddin  Ahsan Raza  Shozab Raza  \n",
       "2    regular        BJ Haddin  Ahsan Raza  Shozab Raza  \n",
       "3    regular        BJ Haddin  Ahsan Raza  Shozab Raza  \n",
       "4    regular        BJ Haddin  Ahsan Raza  Shozab Raza  \n",
       "\n",
       "[5 rows x 27 columns]"
      ]
     },
     "execution_count": 3,
     "metadata": {},
     "output_type": "execute_result"
    }
   ],
   "source": [
    "data.head()"
   ]
  },
  {
   "cell_type": "code",
   "execution_count": null,
   "id": "6a766c4a",
   "metadata": {},
   "outputs": [],
   "source": [
    "series=data['winner'].value_counts()"
   ]
  },
  {
   "cell_type": "code",
   "execution_count": 5,
   "id": "1380f42c",
   "metadata": {},
   "outputs": [
    {
     "data": {
      "text/plain": [
       "winner\n",
       "Islamabad United     13090\n",
       "Peshawar Zalmi       12647\n",
       "Quetta Gladiators    10560\n",
       "Multan Sultans       10458\n",
       "Lahore Qalandars      9650\n",
       "Karachi Kings         8473\n",
       "No result             1234\n",
       "Name: count, dtype: int64"
      ]
     },
     "execution_count": 5,
     "metadata": {},
     "output_type": "execute_result"
    }
   ],
   "source": [
    "series"
   ]
  },
  {
   "cell_type": "code",
   "execution_count": 6,
   "id": "f68c431c",
   "metadata": {},
   "outputs": [
    {
     "data": {
      "text/plain": [
       "winner\n",
       "Karachi Kings    8473\n",
       "No result        1234\n",
       "Name: count, dtype: int64"
      ]
     },
     "execution_count": 6,
     "metadata": {},
     "output_type": "execute_result"
    }
   ],
   "source": [
    "series.tail(2)"
   ]
  },
  {
   "cell_type": "code",
   "execution_count": 7,
   "id": "2f7f31c9",
   "metadata": {},
   "outputs": [
    {
     "data": {
      "text/plain": [
       "winner\n",
       "Islamabad United    13090\n",
       "Peshawar Zalmi      12647\n",
       "Name: count, dtype: int64"
      ]
     },
     "execution_count": 7,
     "metadata": {},
     "output_type": "execute_result"
    }
   ],
   "source": [
    "series.head(2)"
   ]
  },
  {
   "cell_type": "code",
   "execution_count": 9,
   "id": "46a0e206",
   "metadata": {},
   "outputs": [
    {
     "data": {
      "text/plain": [
       "np.int64(9650)"
      ]
     },
     "execution_count": 9,
     "metadata": {},
     "output_type": "execute_result"
    }
   ],
   "source": [
    "series[\"Lahore Qalandars\"]"
   ]
  },
  {
   "cell_type": "code",
   "execution_count": null,
   "id": "780aabb1",
   "metadata": {},
   "outputs": [],
   "source": []
  }
 ],
 "metadata": {
  "kernelspec": {
   "display_name": "venv",
   "language": "python",
   "name": "python3"
  },
  "language_info": {
   "codemirror_mode": {
    "name": "ipython",
    "version": 3
   },
   "file_extension": ".py",
   "mimetype": "text/x-python",
   "name": "python",
   "nbconvert_exporter": "python",
   "pygments_lexer": "ipython3",
   "version": "3.13.4"
  }
 },
 "nbformat": 4,
 "nbformat_minor": 5
}
