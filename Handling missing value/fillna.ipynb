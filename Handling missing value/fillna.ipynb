{
 "cells": [
  {
   "cell_type": "code",
   "execution_count": 1,
   "id": "18b34596",
   "metadata": {},
   "outputs": [],
   "source": [
    "import pandas as pd"
   ]
  },
  {
   "cell_type": "code",
   "execution_count": 2,
   "id": "863b44bf",
   "metadata": {},
   "outputs": [],
   "source": [
    "sales=pd.read_csv('../sales_data.csv')\n"
   ]
  },
  {
   "cell_type": "code",
   "execution_count": 7,
   "id": "d6669925",
   "metadata": {},
   "outputs": [
    {
     "data": {
      "text/html": [
       "<div>\n",
       "<style scoped>\n",
       "    .dataframe tbody tr th:only-of-type {\n",
       "        vertical-align: middle;\n",
       "    }\n",
       "\n",
       "    .dataframe tbody tr th {\n",
       "        vertical-align: top;\n",
       "    }\n",
       "\n",
       "    .dataframe thead th {\n",
       "        text-align: right;\n",
       "    }\n",
       "</style>\n",
       "<table border=\"1\" class=\"dataframe\">\n",
       "  <thead>\n",
       "    <tr style=\"text-align: right;\">\n",
       "      <th></th>\n",
       "      <th>flag</th>\n",
       "      <th>gender</th>\n",
       "      <th>education</th>\n",
       "      <th>house_val</th>\n",
       "      <th>age</th>\n",
       "      <th>online</th>\n",
       "      <th>customer_psy</th>\n",
       "      <th>marriage</th>\n",
       "      <th>child</th>\n",
       "      <th>occupation</th>\n",
       "      <th>mortgage</th>\n",
       "      <th>house_owner</th>\n",
       "      <th>region</th>\n",
       "      <th>car_prob</th>\n",
       "      <th>fam_income</th>\n",
       "    </tr>\n",
       "  </thead>\n",
       "  <tbody>\n",
       "    <tr>\n",
       "      <th>39995</th>\n",
       "      <td>Y</td>\n",
       "      <td>F</td>\n",
       "      <td>3. Bach</td>\n",
       "      <td>0</td>\n",
       "      <td>7_&gt;65</td>\n",
       "      <td>Y</td>\n",
       "      <td>C</td>\n",
       "      <td>NaN</td>\n",
       "      <td>U</td>\n",
       "      <td>Retired</td>\n",
       "      <td>1Low</td>\n",
       "      <td>NaN</td>\n",
       "      <td>South</td>\n",
       "      <td>3</td>\n",
       "      <td>F</td>\n",
       "    </tr>\n",
       "    <tr>\n",
       "      <th>39996</th>\n",
       "      <td>N</td>\n",
       "      <td>F</td>\n",
       "      <td>1. HS</td>\n",
       "      <td>213596</td>\n",
       "      <td>4_&lt;=45</td>\n",
       "      <td>N</td>\n",
       "      <td>I</td>\n",
       "      <td>Married</td>\n",
       "      <td>U</td>\n",
       "      <td>Blue Collar</td>\n",
       "      <td>1Low</td>\n",
       "      <td>Owner</td>\n",
       "      <td>South</td>\n",
       "      <td>1</td>\n",
       "      <td>D</td>\n",
       "    </tr>\n",
       "    <tr>\n",
       "      <th>39997</th>\n",
       "      <td>Y</td>\n",
       "      <td>M</td>\n",
       "      <td>0. &lt;HS</td>\n",
       "      <td>134070</td>\n",
       "      <td>3_&lt;=35</td>\n",
       "      <td>Y</td>\n",
       "      <td>F</td>\n",
       "      <td>Married</td>\n",
       "      <td>U</td>\n",
       "      <td>Sales/Service</td>\n",
       "      <td>1Low</td>\n",
       "      <td>Owner</td>\n",
       "      <td>Midwest</td>\n",
       "      <td>4</td>\n",
       "      <td>E</td>\n",
       "    </tr>\n",
       "    <tr>\n",
       "      <th>39998</th>\n",
       "      <td>N</td>\n",
       "      <td>M</td>\n",
       "      <td>1. HS</td>\n",
       "      <td>402210</td>\n",
       "      <td>7_&gt;65</td>\n",
       "      <td>Y</td>\n",
       "      <td>E</td>\n",
       "      <td>NaN</td>\n",
       "      <td>Y</td>\n",
       "      <td>Sales/Service</td>\n",
       "      <td>1Low</td>\n",
       "      <td>NaN</td>\n",
       "      <td>West</td>\n",
       "      <td>2</td>\n",
       "      <td>B</td>\n",
       "    </tr>\n",
       "    <tr>\n",
       "      <th>39999</th>\n",
       "      <td>N</td>\n",
       "      <td>F</td>\n",
       "      <td>3. Bach</td>\n",
       "      <td>836030</td>\n",
       "      <td>7_&gt;65</td>\n",
       "      <td>Y</td>\n",
       "      <td>B</td>\n",
       "      <td>Married</td>\n",
       "      <td>N</td>\n",
       "      <td>Retired</td>\n",
       "      <td>2Med</td>\n",
       "      <td>Owner</td>\n",
       "      <td>Northeast</td>\n",
       "      <td>1</td>\n",
       "      <td>J</td>\n",
       "    </tr>\n",
       "  </tbody>\n",
       "</table>\n",
       "</div>"
      ],
      "text/plain": [
       "      flag gender education  house_val     age online customer_psy marriage  \\\n",
       "39995    Y      F   3. Bach          0   7_>65      Y            C      NaN   \n",
       "39996    N      F     1. HS     213596  4_<=45      N            I  Married   \n",
       "39997    Y      M    0. <HS     134070  3_<=35      Y            F  Married   \n",
       "39998    N      M     1. HS     402210   7_>65      Y            E      NaN   \n",
       "39999    N      F   3. Bach     836030   7_>65      Y            B  Married   \n",
       "\n",
       "      child     occupation mortgage house_owner     region  car_prob  \\\n",
       "39995     U        Retired     1Low         NaN      South         3   \n",
       "39996     U    Blue Collar     1Low       Owner      South         1   \n",
       "39997     U  Sales/Service     1Low       Owner    Midwest         4   \n",
       "39998     Y  Sales/Service     1Low         NaN       West         2   \n",
       "39999     N        Retired     2Med       Owner  Northeast         1   \n",
       "\n",
       "      fam_income  \n",
       "39995          F  \n",
       "39996          D  \n",
       "39997          E  \n",
       "39998          B  \n",
       "39999          J  "
      ]
     },
     "execution_count": 7,
     "metadata": {},
     "output_type": "execute_result"
    }
   ],
   "source": [
    "sales.tail()"
   ]
  },
  {
   "cell_type": "markdown",
   "id": "95e31974",
   "metadata": {},
   "source": [
    "It can be apply on series"
   ]
  },
  {
   "cell_type": "code",
   "execution_count": 14,
   "id": "3922befc",
   "metadata": {},
   "outputs": [
    {
     "data": {
      "text/plain": [
       "0        owner\n",
       "1        Owner\n",
       "2        Owner\n",
       "3        owner\n",
       "4        owner\n",
       "         ...  \n",
       "39995    owner\n",
       "39996    Owner\n",
       "39997    Owner\n",
       "39998    owner\n",
       "39999    Owner\n",
       "Name: house_owner, Length: 40000, dtype: object"
      ]
     },
     "execution_count": 14,
     "metadata": {},
     "output_type": "execute_result"
    }
   ],
   "source": [
    "sales['house_owner'].fillna('owner')"
   ]
  },
  {
   "cell_type": "code",
   "execution_count": 20,
   "id": "146287c6",
   "metadata": {},
   "outputs": [
    {
     "name": "stderr",
     "output_type": "stream",
     "text": [
      "C:\\Users\\Waheed khan\\AppData\\Local\\Temp\\ipykernel_2100\\4275195182.py:1: FutureWarning: Series.fillna with 'method' is deprecated and will raise in a future version. Use obj.ffill() or obj.bfill() instead.\n",
      "  sales['marriage'].fillna(method='bfill')\n"
     ]
    },
    {
     "data": {
      "text/plain": [
       "0         Single\n",
       "1         Single\n",
       "2         Single\n",
       "3         Single\n",
       "4        Married\n",
       "          ...   \n",
       "39995    Married\n",
       "39996    Married\n",
       "39997    Married\n",
       "39998    Married\n",
       "39999    Married\n",
       "Name: marriage, Length: 40000, dtype: object"
      ]
     },
     "execution_count": 20,
     "metadata": {},
     "output_type": "execute_result"
    }
   ],
   "source": [
    "sales['marriage'].fillna(method='bfill')"
   ]
  }
 ],
 "metadata": {
  "kernelspec": {
   "display_name": "venv",
   "language": "python",
   "name": "python3"
  },
  "language_info": {
   "codemirror_mode": {
    "name": "ipython",
    "version": 3
   },
   "file_extension": ".py",
   "mimetype": "text/x-python",
   "name": "python",
   "nbconvert_exporter": "python",
   "pygments_lexer": "ipython3",
   "version": "3.13.3"
  }
 },
 "nbformat": 4,
 "nbformat_minor": 5
}
